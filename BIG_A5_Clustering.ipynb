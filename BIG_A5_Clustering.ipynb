{
  "nbformat": 4,
  "nbformat_minor": 0,
  "metadata": {
    "kernelspec": {
      "display_name": "Python 3",
      "language": "python",
      "name": "python3"
    },
    "language_info": {
      "codemirror_mode": {
        "name": "ipython",
        "version": 3
      },
      "file_extension": ".py",
      "mimetype": "text/x-python",
      "name": "python",
      "nbconvert_exporter": "python",
      "pygments_lexer": "ipython3",
      "version": "3.7.4"
    },
    "colab": {
      "name": "BIG_A5_Clustering.ipynb",
      "provenance": [],
      "collapsed_sections": [],
      "include_colab_link": true
    }
  },
  "cells": [
    {
      "cell_type": "markdown",
      "metadata": {
        "id": "view-in-github",
        "colab_type": "text"
      },
      "source": [
        "<a href=\"https://colab.research.google.com/github/augustoberwaldt/BIG-DATA-ANALYTICS-MINERACAO-E-ANALISE-DE-DADOS/blob/main/BIG_A5_Clustering.ipynb\" target=\"_parent\"><img src=\"https://colab.research.google.com/assets/colab-badge.svg\" alt=\"Open In Colab\"/></a>"
      ]
    },
    {
      "cell_type": "markdown",
      "metadata": {
        "id": "GXIqdLo14wj3"
      },
      "source": [
        "<head>\n",
        "  <meta name=\"author\" content=\"Rogério de Oliveira\">\n",
        "  <meta institution=\"author\" content=\"Universidade Presbiteriana Mackenzie\">\n",
        "</head>\n",
        "\n",
        "<img src=\"http://meusite.mackenzie.br/rogerio/mackenzie_logo/UPM.2_horizontal_vermelho.jpg\" width=300, align=\"right\">\n",
        "<!-- <h1 align=left><font size = 6, style=\"color:rgb(200,0,0)\"> optional title </font></h1> -->\n"
      ]
    },
    {
      "cell_type": "markdown",
      "metadata": {
        "id": "zQX8WQPeHTwc"
      },
      "source": [
        "# **Tarefa de Aprofundamento 5** \n",
        "## CASO: Clustering, Segmentando Países pela Força de Trabalho \n",
        "---\n",
        "<br>\n",
        "<br>\n",
        "\n",
        "\n",
        "\n"
      ]
    },
    {
      "cell_type": "markdown",
      "metadata": {
        "id": "Py6w383Wz2xs"
      },
      "source": [
        "A partir deste notebook você vai criar modelos de clusterização para os países com base em suas características de força de trabalho. \n",
        "\n",
        "Em seguida, com base nos seus resultados, responda o **questionário do Moodle**. "
      ]
    },
    {
      "cell_type": "markdown",
      "metadata": {
        "id": "nGZH-j05q8WZ"
      },
      "source": [
        "# Basic imports"
      ]
    },
    {
      "cell_type": "code",
      "metadata": {
        "id": "T6FFPMh10lvO"
      },
      "source": [
        "import numpy as np\n",
        "import pandas as pd\n",
        "import matplotlib.pyplot as plt\n",
        "%matplotlib inline\n",
        "import seaborn as sns\n",
        "from sklearn.cluster import KMeans"
      ],
      "execution_count": 2,
      "outputs": []
    },
    {
      "cell_type": "markdown",
      "metadata": {
        "id": "wF7X-vnhW3OJ"
      },
      "source": [
        "# Exploração dos Dados\n",
        "\n"
      ]
    },
    {
      "cell_type": "markdown",
      "metadata": {
        "id": "pfByZcOTDFDL"
      },
      "source": [
        "Esta base de dados contém a percentagem da população empregada em diferentes indústrias em 26 países europeus em 1979. \n",
        "\n",
        "- Country - o nome do país (identificador)\n",
        "- Agr -% da força de trabalho empregada na agricultura\n",
        "- Min -% na mineração\n",
        "- Man -% na fabricação\n",
        "- PS -% nas indústrias de fornecimento de energia\n",
        "- Con - % em construção\n",
        "- SI -% nas indústrias de serviços\n",
        "- Fin -% em finanças\n",
        "- SPS -% em serviços sociais e pessoais\n",
        "- TC -% em transporte e comunicações\n",
        "\n",
        "Fonte: https://statsandr.com/ \n",
        "\n",
        "**Objetivo:** Segmentar os países em grupos para aplicação de diferentes políticas públicas empregando Clusterização."
      ]
    },
    {
      "cell_type": "code",
      "metadata": {
        "colab": {
          "base_uri": "https://localhost:8080/",
          "height": 206
        },
        "id": "P6IHT8bPSDS8",
        "outputId": "d4e7ecf5-b4f9-4b6c-8f09-1fd77d18180d"
      },
      "source": [
        "df = pd.read_csv('http://meusite.mackenzie.br/rogerio/data_load/Eurojobs.csv')\n",
        "df.head()"
      ],
      "execution_count": 3,
      "outputs": [
        {
          "output_type": "execute_result",
          "data": {
            "text/plain": [
              "      Country   Agr  Min   Man   PS  Con    SI  Fin   SPS   TC\n",
              "0     Belgium   3.3  0.9  27.6  0.9  8.2  19.1  6.2  26.6  7.2\n",
              "1     Denmark   9.2  0.1  21.8  0.6  8.3  14.6  6.5  32.2  7.1\n",
              "2      France  10.8  0.8  27.5  0.9  8.9  16.8  6.0  22.6  5.7\n",
              "3  W. Germany   6.7  1.3  35.8  0.9  7.3  14.4  5.0  22.3  6.1\n",
              "4     Ireland  23.2  1.0  20.7  1.3  7.5  16.8  2.8  20.8  6.1"
            ],
            "text/html": [
              "\n",
              "  <div id=\"df-7ddc1ea2-2009-4d5a-8fb8-6751959a41f0\">\n",
              "    <div class=\"colab-df-container\">\n",
              "      <div>\n",
              "<style scoped>\n",
              "    .dataframe tbody tr th:only-of-type {\n",
              "        vertical-align: middle;\n",
              "    }\n",
              "\n",
              "    .dataframe tbody tr th {\n",
              "        vertical-align: top;\n",
              "    }\n",
              "\n",
              "    .dataframe thead th {\n",
              "        text-align: right;\n",
              "    }\n",
              "</style>\n",
              "<table border=\"1\" class=\"dataframe\">\n",
              "  <thead>\n",
              "    <tr style=\"text-align: right;\">\n",
              "      <th></th>\n",
              "      <th>Country</th>\n",
              "      <th>Agr</th>\n",
              "      <th>Min</th>\n",
              "      <th>Man</th>\n",
              "      <th>PS</th>\n",
              "      <th>Con</th>\n",
              "      <th>SI</th>\n",
              "      <th>Fin</th>\n",
              "      <th>SPS</th>\n",
              "      <th>TC</th>\n",
              "    </tr>\n",
              "  </thead>\n",
              "  <tbody>\n",
              "    <tr>\n",
              "      <th>0</th>\n",
              "      <td>Belgium</td>\n",
              "      <td>3.3</td>\n",
              "      <td>0.9</td>\n",
              "      <td>27.6</td>\n",
              "      <td>0.9</td>\n",
              "      <td>8.2</td>\n",
              "      <td>19.1</td>\n",
              "      <td>6.2</td>\n",
              "      <td>26.6</td>\n",
              "      <td>7.2</td>\n",
              "    </tr>\n",
              "    <tr>\n",
              "      <th>1</th>\n",
              "      <td>Denmark</td>\n",
              "      <td>9.2</td>\n",
              "      <td>0.1</td>\n",
              "      <td>21.8</td>\n",
              "      <td>0.6</td>\n",
              "      <td>8.3</td>\n",
              "      <td>14.6</td>\n",
              "      <td>6.5</td>\n",
              "      <td>32.2</td>\n",
              "      <td>7.1</td>\n",
              "    </tr>\n",
              "    <tr>\n",
              "      <th>2</th>\n",
              "      <td>France</td>\n",
              "      <td>10.8</td>\n",
              "      <td>0.8</td>\n",
              "      <td>27.5</td>\n",
              "      <td>0.9</td>\n",
              "      <td>8.9</td>\n",
              "      <td>16.8</td>\n",
              "      <td>6.0</td>\n",
              "      <td>22.6</td>\n",
              "      <td>5.7</td>\n",
              "    </tr>\n",
              "    <tr>\n",
              "      <th>3</th>\n",
              "      <td>W. Germany</td>\n",
              "      <td>6.7</td>\n",
              "      <td>1.3</td>\n",
              "      <td>35.8</td>\n",
              "      <td>0.9</td>\n",
              "      <td>7.3</td>\n",
              "      <td>14.4</td>\n",
              "      <td>5.0</td>\n",
              "      <td>22.3</td>\n",
              "      <td>6.1</td>\n",
              "    </tr>\n",
              "    <tr>\n",
              "      <th>4</th>\n",
              "      <td>Ireland</td>\n",
              "      <td>23.2</td>\n",
              "      <td>1.0</td>\n",
              "      <td>20.7</td>\n",
              "      <td>1.3</td>\n",
              "      <td>7.5</td>\n",
              "      <td>16.8</td>\n",
              "      <td>2.8</td>\n",
              "      <td>20.8</td>\n",
              "      <td>6.1</td>\n",
              "    </tr>\n",
              "  </tbody>\n",
              "</table>\n",
              "</div>\n",
              "      <button class=\"colab-df-convert\" onclick=\"convertToInteractive('df-7ddc1ea2-2009-4d5a-8fb8-6751959a41f0')\"\n",
              "              title=\"Convert this dataframe to an interactive table.\"\n",
              "              style=\"display:none;\">\n",
              "        \n",
              "  <svg xmlns=\"http://www.w3.org/2000/svg\" height=\"24px\"viewBox=\"0 0 24 24\"\n",
              "       width=\"24px\">\n",
              "    <path d=\"M0 0h24v24H0V0z\" fill=\"none\"/>\n",
              "    <path d=\"M18.56 5.44l.94 2.06.94-2.06 2.06-.94-2.06-.94-.94-2.06-.94 2.06-2.06.94zm-11 1L8.5 8.5l.94-2.06 2.06-.94-2.06-.94L8.5 2.5l-.94 2.06-2.06.94zm10 10l.94 2.06.94-2.06 2.06-.94-2.06-.94-.94-2.06-.94 2.06-2.06.94z\"/><path d=\"M17.41 7.96l-1.37-1.37c-.4-.4-.92-.59-1.43-.59-.52 0-1.04.2-1.43.59L10.3 9.45l-7.72 7.72c-.78.78-.78 2.05 0 2.83L4 21.41c.39.39.9.59 1.41.59.51 0 1.02-.2 1.41-.59l7.78-7.78 2.81-2.81c.8-.78.8-2.07 0-2.86zM5.41 20L4 18.59l7.72-7.72 1.47 1.35L5.41 20z\"/>\n",
              "  </svg>\n",
              "      </button>\n",
              "      \n",
              "  <style>\n",
              "    .colab-df-container {\n",
              "      display:flex;\n",
              "      flex-wrap:wrap;\n",
              "      gap: 12px;\n",
              "    }\n",
              "\n",
              "    .colab-df-convert {\n",
              "      background-color: #E8F0FE;\n",
              "      border: none;\n",
              "      border-radius: 50%;\n",
              "      cursor: pointer;\n",
              "      display: none;\n",
              "      fill: #1967D2;\n",
              "      height: 32px;\n",
              "      padding: 0 0 0 0;\n",
              "      width: 32px;\n",
              "    }\n",
              "\n",
              "    .colab-df-convert:hover {\n",
              "      background-color: #E2EBFA;\n",
              "      box-shadow: 0px 1px 2px rgba(60, 64, 67, 0.3), 0px 1px 3px 1px rgba(60, 64, 67, 0.15);\n",
              "      fill: #174EA6;\n",
              "    }\n",
              "\n",
              "    [theme=dark] .colab-df-convert {\n",
              "      background-color: #3B4455;\n",
              "      fill: #D2E3FC;\n",
              "    }\n",
              "\n",
              "    [theme=dark] .colab-df-convert:hover {\n",
              "      background-color: #434B5C;\n",
              "      box-shadow: 0px 1px 3px 1px rgba(0, 0, 0, 0.15);\n",
              "      filter: drop-shadow(0px 1px 2px rgba(0, 0, 0, 0.3));\n",
              "      fill: #FFFFFF;\n",
              "    }\n",
              "  </style>\n",
              "\n",
              "      <script>\n",
              "        const buttonEl =\n",
              "          document.querySelector('#df-7ddc1ea2-2009-4d5a-8fb8-6751959a41f0 button.colab-df-convert');\n",
              "        buttonEl.style.display =\n",
              "          google.colab.kernel.accessAllowed ? 'block' : 'none';\n",
              "\n",
              "        async function convertToInteractive(key) {\n",
              "          const element = document.querySelector('#df-7ddc1ea2-2009-4d5a-8fb8-6751959a41f0');\n",
              "          const dataTable =\n",
              "            await google.colab.kernel.invokeFunction('convertToInteractive',\n",
              "                                                     [key], {});\n",
              "          if (!dataTable) return;\n",
              "\n",
              "          const docLinkHtml = 'Like what you see? Visit the ' +\n",
              "            '<a target=\"_blank\" href=https://colab.research.google.com/notebooks/data_table.ipynb>data table notebook</a>'\n",
              "            + ' to learn more about interactive tables.';\n",
              "          element.innerHTML = '';\n",
              "          dataTable['output_type'] = 'display_data';\n",
              "          await google.colab.output.renderOutput(dataTable, element);\n",
              "          const docLink = document.createElement('div');\n",
              "          docLink.innerHTML = docLinkHtml;\n",
              "          element.appendChild(docLink);\n",
              "        }\n",
              "      </script>\n",
              "    </div>\n",
              "  </div>\n",
              "  "
            ]
          },
          "metadata": {},
          "execution_count": 3
        }
      ]
    },
    {
      "cell_type": "markdown",
      "metadata": {
        "id": "1f8-sl3PYF3i"
      },
      "source": [
        "## Inspecione os dados"
      ]
    },
    {
      "cell_type": "code",
      "metadata": {
        "id": "b9pggocxSZUD",
        "colab": {
          "base_uri": "https://localhost:8080/",
          "height": 394
        },
        "outputId": "04216633-4b64-4980-8426-0693080da08c"
      },
      "source": [
        "df.describe(include=\"all\")"
      ],
      "execution_count": 5,
      "outputs": [
        {
          "output_type": "execute_result",
          "data": {
            "text/plain": [
              "        Country        Agr        Min        Man         PS        Con  \\\n",
              "count        26  26.000000  26.000000  26.000000  26.000000  26.000000   \n",
              "unique       26        NaN        NaN        NaN        NaN        NaN   \n",
              "top     Belgium        NaN        NaN        NaN        NaN        NaN   \n",
              "freq          1        NaN        NaN        NaN        NaN        NaN   \n",
              "mean        NaN  19.130769   1.253846  27.007692   0.907692   8.165385   \n",
              "std         NaN  15.546569   0.970044   7.007763   0.376216   1.645586   \n",
              "min         NaN   2.700000   0.100000   7.900000   0.100000   2.800000   \n",
              "25%         NaN   7.700000   0.525000  23.000000   0.600000   7.525000   \n",
              "50%         NaN  14.450000   0.950000  27.550000   0.850000   8.350000   \n",
              "75%         NaN  23.675000   1.800000  30.200000   1.175000   8.975000   \n",
              "max         NaN  66.800000   3.100000  41.200000   1.900000  11.500000   \n",
              "\n",
              "               SI        Fin        SPS         TC  \n",
              "count   26.000000  26.000000  26.000000  26.000000  \n",
              "unique        NaN        NaN        NaN        NaN  \n",
              "top           NaN        NaN        NaN        NaN  \n",
              "freq          NaN        NaN        NaN        NaN  \n",
              "mean    12.957692   4.000000  20.023077   6.546154  \n",
              "std      4.575253   2.806564   6.829542   1.391469  \n",
              "min      5.200000   0.500000   5.300000   3.200000  \n",
              "25%      9.250000   1.225000  16.250000   5.700000  \n",
              "50%     14.400000   4.650000  19.650000   6.700000  \n",
              "75%     16.875000   5.925000  24.125000   7.075000  \n",
              "max     19.100000  11.300000  32.400000   9.400000  "
            ],
            "text/html": [
              "\n",
              "  <div id=\"df-5e693a2f-dd4c-4a29-8b9a-b727889e3ab6\">\n",
              "    <div class=\"colab-df-container\">\n",
              "      <div>\n",
              "<style scoped>\n",
              "    .dataframe tbody tr th:only-of-type {\n",
              "        vertical-align: middle;\n",
              "    }\n",
              "\n",
              "    .dataframe tbody tr th {\n",
              "        vertical-align: top;\n",
              "    }\n",
              "\n",
              "    .dataframe thead th {\n",
              "        text-align: right;\n",
              "    }\n",
              "</style>\n",
              "<table border=\"1\" class=\"dataframe\">\n",
              "  <thead>\n",
              "    <tr style=\"text-align: right;\">\n",
              "      <th></th>\n",
              "      <th>Country</th>\n",
              "      <th>Agr</th>\n",
              "      <th>Min</th>\n",
              "      <th>Man</th>\n",
              "      <th>PS</th>\n",
              "      <th>Con</th>\n",
              "      <th>SI</th>\n",
              "      <th>Fin</th>\n",
              "      <th>SPS</th>\n",
              "      <th>TC</th>\n",
              "    </tr>\n",
              "  </thead>\n",
              "  <tbody>\n",
              "    <tr>\n",
              "      <th>count</th>\n",
              "      <td>26</td>\n",
              "      <td>26.000000</td>\n",
              "      <td>26.000000</td>\n",
              "      <td>26.000000</td>\n",
              "      <td>26.000000</td>\n",
              "      <td>26.000000</td>\n",
              "      <td>26.000000</td>\n",
              "      <td>26.000000</td>\n",
              "      <td>26.000000</td>\n",
              "      <td>26.000000</td>\n",
              "    </tr>\n",
              "    <tr>\n",
              "      <th>unique</th>\n",
              "      <td>26</td>\n",
              "      <td>NaN</td>\n",
              "      <td>NaN</td>\n",
              "      <td>NaN</td>\n",
              "      <td>NaN</td>\n",
              "      <td>NaN</td>\n",
              "      <td>NaN</td>\n",
              "      <td>NaN</td>\n",
              "      <td>NaN</td>\n",
              "      <td>NaN</td>\n",
              "    </tr>\n",
              "    <tr>\n",
              "      <th>top</th>\n",
              "      <td>Belgium</td>\n",
              "      <td>NaN</td>\n",
              "      <td>NaN</td>\n",
              "      <td>NaN</td>\n",
              "      <td>NaN</td>\n",
              "      <td>NaN</td>\n",
              "      <td>NaN</td>\n",
              "      <td>NaN</td>\n",
              "      <td>NaN</td>\n",
              "      <td>NaN</td>\n",
              "    </tr>\n",
              "    <tr>\n",
              "      <th>freq</th>\n",
              "      <td>1</td>\n",
              "      <td>NaN</td>\n",
              "      <td>NaN</td>\n",
              "      <td>NaN</td>\n",
              "      <td>NaN</td>\n",
              "      <td>NaN</td>\n",
              "      <td>NaN</td>\n",
              "      <td>NaN</td>\n",
              "      <td>NaN</td>\n",
              "      <td>NaN</td>\n",
              "    </tr>\n",
              "    <tr>\n",
              "      <th>mean</th>\n",
              "      <td>NaN</td>\n",
              "      <td>19.130769</td>\n",
              "      <td>1.253846</td>\n",
              "      <td>27.007692</td>\n",
              "      <td>0.907692</td>\n",
              "      <td>8.165385</td>\n",
              "      <td>12.957692</td>\n",
              "      <td>4.000000</td>\n",
              "      <td>20.023077</td>\n",
              "      <td>6.546154</td>\n",
              "    </tr>\n",
              "    <tr>\n",
              "      <th>std</th>\n",
              "      <td>NaN</td>\n",
              "      <td>15.546569</td>\n",
              "      <td>0.970044</td>\n",
              "      <td>7.007763</td>\n",
              "      <td>0.376216</td>\n",
              "      <td>1.645586</td>\n",
              "      <td>4.575253</td>\n",
              "      <td>2.806564</td>\n",
              "      <td>6.829542</td>\n",
              "      <td>1.391469</td>\n",
              "    </tr>\n",
              "    <tr>\n",
              "      <th>min</th>\n",
              "      <td>NaN</td>\n",
              "      <td>2.700000</td>\n",
              "      <td>0.100000</td>\n",
              "      <td>7.900000</td>\n",
              "      <td>0.100000</td>\n",
              "      <td>2.800000</td>\n",
              "      <td>5.200000</td>\n",
              "      <td>0.500000</td>\n",
              "      <td>5.300000</td>\n",
              "      <td>3.200000</td>\n",
              "    </tr>\n",
              "    <tr>\n",
              "      <th>25%</th>\n",
              "      <td>NaN</td>\n",
              "      <td>7.700000</td>\n",
              "      <td>0.525000</td>\n",
              "      <td>23.000000</td>\n",
              "      <td>0.600000</td>\n",
              "      <td>7.525000</td>\n",
              "      <td>9.250000</td>\n",
              "      <td>1.225000</td>\n",
              "      <td>16.250000</td>\n",
              "      <td>5.700000</td>\n",
              "    </tr>\n",
              "    <tr>\n",
              "      <th>50%</th>\n",
              "      <td>NaN</td>\n",
              "      <td>14.450000</td>\n",
              "      <td>0.950000</td>\n",
              "      <td>27.550000</td>\n",
              "      <td>0.850000</td>\n",
              "      <td>8.350000</td>\n",
              "      <td>14.400000</td>\n",
              "      <td>4.650000</td>\n",
              "      <td>19.650000</td>\n",
              "      <td>6.700000</td>\n",
              "    </tr>\n",
              "    <tr>\n",
              "      <th>75%</th>\n",
              "      <td>NaN</td>\n",
              "      <td>23.675000</td>\n",
              "      <td>1.800000</td>\n",
              "      <td>30.200000</td>\n",
              "      <td>1.175000</td>\n",
              "      <td>8.975000</td>\n",
              "      <td>16.875000</td>\n",
              "      <td>5.925000</td>\n",
              "      <td>24.125000</td>\n",
              "      <td>7.075000</td>\n",
              "    </tr>\n",
              "    <tr>\n",
              "      <th>max</th>\n",
              "      <td>NaN</td>\n",
              "      <td>66.800000</td>\n",
              "      <td>3.100000</td>\n",
              "      <td>41.200000</td>\n",
              "      <td>1.900000</td>\n",
              "      <td>11.500000</td>\n",
              "      <td>19.100000</td>\n",
              "      <td>11.300000</td>\n",
              "      <td>32.400000</td>\n",
              "      <td>9.400000</td>\n",
              "    </tr>\n",
              "  </tbody>\n",
              "</table>\n",
              "</div>\n",
              "      <button class=\"colab-df-convert\" onclick=\"convertToInteractive('df-5e693a2f-dd4c-4a29-8b9a-b727889e3ab6')\"\n",
              "              title=\"Convert this dataframe to an interactive table.\"\n",
              "              style=\"display:none;\">\n",
              "        \n",
              "  <svg xmlns=\"http://www.w3.org/2000/svg\" height=\"24px\"viewBox=\"0 0 24 24\"\n",
              "       width=\"24px\">\n",
              "    <path d=\"M0 0h24v24H0V0z\" fill=\"none\"/>\n",
              "    <path d=\"M18.56 5.44l.94 2.06.94-2.06 2.06-.94-2.06-.94-.94-2.06-.94 2.06-2.06.94zm-11 1L8.5 8.5l.94-2.06 2.06-.94-2.06-.94L8.5 2.5l-.94 2.06-2.06.94zm10 10l.94 2.06.94-2.06 2.06-.94-2.06-.94-.94-2.06-.94 2.06-2.06.94z\"/><path d=\"M17.41 7.96l-1.37-1.37c-.4-.4-.92-.59-1.43-.59-.52 0-1.04.2-1.43.59L10.3 9.45l-7.72 7.72c-.78.78-.78 2.05 0 2.83L4 21.41c.39.39.9.59 1.41.59.51 0 1.02-.2 1.41-.59l7.78-7.78 2.81-2.81c.8-.78.8-2.07 0-2.86zM5.41 20L4 18.59l7.72-7.72 1.47 1.35L5.41 20z\"/>\n",
              "  </svg>\n",
              "      </button>\n",
              "      \n",
              "  <style>\n",
              "    .colab-df-container {\n",
              "      display:flex;\n",
              "      flex-wrap:wrap;\n",
              "      gap: 12px;\n",
              "    }\n",
              "\n",
              "    .colab-df-convert {\n",
              "      background-color: #E8F0FE;\n",
              "      border: none;\n",
              "      border-radius: 50%;\n",
              "      cursor: pointer;\n",
              "      display: none;\n",
              "      fill: #1967D2;\n",
              "      height: 32px;\n",
              "      padding: 0 0 0 0;\n",
              "      width: 32px;\n",
              "    }\n",
              "\n",
              "    .colab-df-convert:hover {\n",
              "      background-color: #E2EBFA;\n",
              "      box-shadow: 0px 1px 2px rgba(60, 64, 67, 0.3), 0px 1px 3px 1px rgba(60, 64, 67, 0.15);\n",
              "      fill: #174EA6;\n",
              "    }\n",
              "\n",
              "    [theme=dark] .colab-df-convert {\n",
              "      background-color: #3B4455;\n",
              "      fill: #D2E3FC;\n",
              "    }\n",
              "\n",
              "    [theme=dark] .colab-df-convert:hover {\n",
              "      background-color: #434B5C;\n",
              "      box-shadow: 0px 1px 3px 1px rgba(0, 0, 0, 0.15);\n",
              "      filter: drop-shadow(0px 1px 2px rgba(0, 0, 0, 0.3));\n",
              "      fill: #FFFFFF;\n",
              "    }\n",
              "  </style>\n",
              "\n",
              "      <script>\n",
              "        const buttonEl =\n",
              "          document.querySelector('#df-5e693a2f-dd4c-4a29-8b9a-b727889e3ab6 button.colab-df-convert');\n",
              "        buttonEl.style.display =\n",
              "          google.colab.kernel.accessAllowed ? 'block' : 'none';\n",
              "\n",
              "        async function convertToInteractive(key) {\n",
              "          const element = document.querySelector('#df-5e693a2f-dd4c-4a29-8b9a-b727889e3ab6');\n",
              "          const dataTable =\n",
              "            await google.colab.kernel.invokeFunction('convertToInteractive',\n",
              "                                                     [key], {});\n",
              "          if (!dataTable) return;\n",
              "\n",
              "          const docLinkHtml = 'Like what you see? Visit the ' +\n",
              "            '<a target=\"_blank\" href=https://colab.research.google.com/notebooks/data_table.ipynb>data table notebook</a>'\n",
              "            + ' to learn more about interactive tables.';\n",
              "          element.innerHTML = '';\n",
              "          dataTable['output_type'] = 'display_data';\n",
              "          await google.colab.output.renderOutput(dataTable, element);\n",
              "          const docLink = document.createElement('div');\n",
              "          docLink.innerHTML = docLinkHtml;\n",
              "          element.appendChild(docLink);\n",
              "        }\n",
              "      </script>\n",
              "    </div>\n",
              "  </div>\n",
              "  "
            ]
          },
          "metadata": {},
          "execution_count": 5
        }
      ]
    },
    {
      "cell_type": "code",
      "source": [
        "df.isnull().sum()"
      ],
      "metadata": {
        "colab": {
          "base_uri": "https://localhost:8080/"
        },
        "id": "Q3_8jIAXamyv",
        "outputId": "4f12d6f0-8dac-4af9-b698-0e17e47ebf7b"
      },
      "execution_count": 4,
      "outputs": [
        {
          "output_type": "execute_result",
          "data": {
            "text/plain": [
              "Country    0\n",
              "Agr        0\n",
              "Min        0\n",
              "Man        0\n",
              "PS         0\n",
              "Con        0\n",
              "SI         0\n",
              "Fin        0\n",
              "SPS        0\n",
              "TC         0\n",
              "dtype: int64"
            ]
          },
          "metadata": {},
          "execution_count": 4
        }
      ]
    },
    {
      "cell_type": "markdown",
      "metadata": {
        "id": "qJUllMOaXMHp"
      },
      "source": [
        "## Preparação dos dados\n",
        "\n",
        "Normalize os dados o `StandardScaler` (melhor) ou a função `scale`.\n",
        "\n",
        "$$ z_i = \\frac{x_i - \\bar{x}}{\\sigma(x)}$$\n",
        "\n",
        "E não esqueça de excluir dados não úteis ao treinamento. Depois de normalizar os dados os valores devem apresentar média próxima de 0 e desvio padrão próximo de 1."
      ]
    },
    {
      "cell_type": "code",
      "metadata": {
        "id": "Vl2mpSUUTgwS",
        "colab": {
          "base_uri": "https://localhost:8080/"
        },
        "outputId": "2a650343-023d-423c-9071-edffca46220b"
      },
      "source": [
        "from sklearn.preprocessing import StandardScaler\n",
        "\n",
        "dados = df[['Country', 'Agr']]\n",
        "#dados.head(4)\n",
        "\n",
        "scaler = StandardScaler()\n",
        "scaler.fit(df.drop(columns=['Country'] ))\n",
        "X = scaler.transform(df.drop(columns=['Country']))\n",
        "X\n"
      ],
      "execution_count": 6,
      "outputs": [
        {
          "output_type": "execute_result",
          "data": {
            "text/plain": [
              "array([[-1.03844649, -0.37199739,  0.08619551, -0.02085144,  0.02145187,\n",
              "         1.3690936 ,  0.79940055,  0.9820822 ,  0.47920226],\n",
              "       [-0.65142586, -1.21303495, -0.75784885, -0.83405766,  0.08342395,\n",
              "         0.36606322,  0.90840971,  1.81828787,  0.40591251],\n",
              "       [-0.54647111, -0.47712708,  0.07164302, -0.02085144,  0.4552564 ,\n",
              "         0.85643363,  0.72672777,  0.38479244, -0.62014411],\n",
              "       [-0.81541765,  0.0485214 ,  1.27949961, -0.02085144, -0.53629681,\n",
              "         0.32148409,  0.36336389,  0.33999571, -0.32698507],\n",
              "       [ 0.26692818, -0.26686769, -0.91792623,  1.06342351, -0.41235266,\n",
              "         0.85643363, -0.43603666,  0.11601205, -0.32698507],\n",
              "       [-0.21192785, -0.68738647,  0.08619551, -1.10512639,  1.13694923,\n",
              "         1.14619796, -0.87207332,  0.01148634, -0.62014411],\n",
              "       [-0.74982093,  1.94085592,  0.55187516, -0.29192018,  0.64117263,\n",
              "         1.23535621,  0.21801833, -0.12290385, -0.25369532],\n",
              "       [-0.84165634, -1.21303495, -0.65598143,  0.2502173 ,  1.07497715,\n",
              "         1.12390839,  1.01741888,  1.26579484,  0.18604323],\n",
              "       [-1.07780452,  0.15365109,  0.46456023,  1.33449225, -0.78418511,\n",
              "         0.87872319,  0.6177186 ,  1.23593035, -0.1071158 ],\n",
              "       [-0.42183735, -0.16173799,  0.46456023,  1.33449225,  0.51722848,\n",
              "         0.85643363,  0.3270275 , -0.48127771,  0.33262275],\n",
              "       [-0.40215833, -0.89764586, -0.1611968 ,  1.06342351, -0.47432473,\n",
              "         0.38835279,  0.54504583,  0.63864059,  0.77236129],\n",
              "       [ 1.46078843, -0.68738647, -1.36905339, -0.83405766, -0.0405202 ,\n",
              "        -0.32491326, -0.58138222, -1.34734787,  0.11275347],\n",
              "       [-0.6645452 , -0.79251617, -0.67053392, -0.29192018,  0.26934017,\n",
              "         0.87872319,  0.25435472,  1.13140464,  2.09157694],\n",
              "       [ 0.56867308, -1.00277556, -0.36493165, -0.83405766,  0.14539602,\n",
              "         0.07629889, -0.47237305, -0.49620996, -0.62014411],\n",
              "       [ 0.24724916, -0.47712708,  0.21716791, -0.56298892,  2.06653036,\n",
              "        -0.72612541,  1.63513748, -1.22788991, -0.76672362],\n",
              "       [-0.85477568, -0.89764586, -0.1611968 , -0.29192018, -0.59826888,\n",
              "         0.32148409,  0.72672777,  1.84815236,  0.18604323],\n",
              "       [-0.74982093, -1.10790526,  1.57054939, -0.29192018,  0.82708885,\n",
              "         1.01246058,  0.47237305, -0.69032913, -0.62014411],\n",
              "       [ 3.12694504, -0.58225678, -2.78064483, -2.18940135, -3.3250402 ,\n",
              "        -1.72915578, -1.05375527, -1.21295767, -2.45238805],\n",
              "       [ 0.29316687,  0.67929957,  0.7701625 , -0.83405766, -0.16446435,\n",
              "        -1.10504799, -1.19910082, -0.2722263 ,  0.11275347],\n",
              "       [-0.17256982,  1.73059653,  1.23584215,  0.79235477,  0.33131225,\n",
              "        -0.83757323, -1.12642804, -0.31702303,  0.33262275],\n",
              "       [-0.97940944,  1.73059653,  2.06533402,  1.06342351, -0.35038058,\n",
              "        -0.39178195, -1.01741888,  0.31013122,  1.35867936],\n",
              "       [ 0.1685331 ,  1.94085592,  0.37724529,  2.68983594,  0.02145187,\n",
              "        -0.7929941 , -1.12642804, -0.42154874,  1.06552033],\n",
              "       [ 0.78514224,  1.31007775, -0.19030178, -0.02085144,  0.14539602,\n",
              "        -1.21649581, -1.12642804, -0.58580342,  0.25933299],\n",
              "       [ 1.02129042,  0.88955897,  0.45000774, -0.83405766,  0.33131225,\n",
              "        -1.57312884, -0.98108249, -1.24282216, -1.13317241],\n",
              "       [ 0.29972654,  0.15365109, -0.17574929, -0.83405766,  0.64117263,\n",
              "        -1.52854971, -1.2717736 ,  0.53411488,  2.01828718],\n",
              "       [ 1.93964446,  0.25878079, -1.4854733 ,  0.52128604, -2.02362662,\n",
              "        -1.46168102,  2.65255636, -2.19848578, -1.86606999]])"
            ]
          },
          "metadata": {},
          "execution_count": 6
        }
      ]
    },
    {
      "cell_type": "code",
      "source": [
        "def inercia(X=X, kmin=1, kmax=10):\n",
        "  inertia = []\n",
        "  for n in range(kmin , kmax+1):\n",
        "      clf = KMeans(n_clusters = n , random_state= 1984)\n",
        "      clf.fit(X)\n",
        "      inertia.append(clf.inertia_)\n",
        "      \n",
        "  plt.figure(figsize = (8, 4))\n",
        "  plt.plot(np.arange(1 , 11) , inertia , 'ko')\n",
        "  plt.plot(np.arange(1 , 11) , inertia , '-' , alpha = 0.5)\n",
        "  plt.xlabel('Number of Clusters') , plt.ylabel('Inertia')\n",
        "  plt.title('Kmeans Inércia', fontsize=14, weight='bold')\n",
        "  return inertia\n",
        "\n",
        "inertia = inercia(X,1,10)\n",
        "# adicionado depois... ;-)\n",
        "plt.plot(3 , inertia[2] , 'P', alpha = 1, color = 'red')\n",
        "plt.annotate('Elbow Point', (3 , inertia[2]), \n",
        "            xytext=(10, 40), fontsize=14,\n",
        "            textcoords='offset points', \n",
        "            color='grey',arrowprops=dict(facecolor='black',width=0.1))\n",
        "\n",
        "plt.show()   \n",
        "\n",
        "#número ideal de clusters: k=3."
      ],
      "metadata": {
        "colab": {
          "base_uri": "https://localhost:8080/",
          "height": 296
        },
        "id": "8_qTKsz2i4ih",
        "outputId": "50abcd57-d745-473f-dbe3-aa7a544f9e82"
      },
      "execution_count": 7,
      "outputs": [
        {
          "output_type": "display_data",
          "data": {
            "text/plain": [
              "<Figure size 576x288 with 1 Axes>"
            ],
            "image/png": "[encoded data removed]"
          },
          "metadata": {
            "needs_background": "light"
          }
        }
      ]
    },
    {
      "cell_type": "markdown",
      "source": [
        "**Método da silhueta**"
      ],
      "metadata": {
        "id": "pTpSdsC-j_mA"
      }
    },
    {
      "cell_type": "code",
      "source": [
        "from sklearn import metrics\n",
        "\n",
        "for n_clusters in range(2,11):\n",
        "  clf = KMeans(n_clusters = n_clusters , random_state= 1234)  \n",
        "  clf.fit(X)\n",
        "  labels = clf.labels_\n",
        "  print('Silhueta média para', n_clusters , 'clusters: ', np.round( metrics.silhouette_score(X, labels, metric='euclidean'),3))"
      ],
      "metadata": {
        "colab": {
          "base_uri": "https://localhost:8080/"
        },
        "id": "3vlBB_bwkE81",
        "outputId": "e3b60af1-5d7d-4694-af12-086af54ce6fc"
      },
      "execution_count": 8,
      "outputs": [
        {
          "output_type": "stream",
          "name": "stdout",
          "text": [
            "Silhueta média para 2 clusters:  0.323\n",
            "Silhueta média para 3 clusters:  0.278\n",
            "Silhueta média para 4 clusters:  0.231\n",
            "Silhueta média para 5 clusters:  0.202\n",
            "Silhueta média para 6 clusters:  0.164\n",
            "Silhueta média para 7 clusters:  0.2\n",
            "Silhueta média para 8 clusters:  0.194\n",
            "Silhueta média para 9 clusters:  0.182\n",
            "Silhueta média para 10 clusters:  0.181\n"
          ]
        }
      ]
    },
    {
      "cell_type": "markdown",
      "metadata": {
        "id": "379oIRQiYY2C"
      },
      "source": [
        "## Número de Clusters\n",
        "\n",
        "(Moodle) **Q1**. Qual o melhor número de clusters pela *regra do cotovelo* e pelo valor médio de silhueta aplicanaod o `kmedias`? (verifique de 2 a 10 clusters)\n",
        "\n",
        "> Empregue `random_state= 1234` no `KMeans`. Não empregue outros parâmetros não solicitados.   \n",
        "\n"
      ]
    },
    {
      "cell_type": "code",
      "metadata": {
        "id": "h07ThSkD843k",
        "colab": {
          "base_uri": "https://localhost:8080/",
          "height": 296
        },
        "outputId": "2b1a62a6-b159-4906-81c2-c9359dd76088"
      },
      "source": [
        "def inercia(X=X, kmin=1, kmax=10):\n",
        "  inertia = []\n",
        "  for n in range(kmin , kmax+1):\n",
        "      clf = KMeans(n_clusters = n , random_state= 1984)\n",
        "      clf.fit(X)\n",
        "      inertia.append(clf.inertia_)\n",
        "      \n",
        "  plt.figure(figsize = (8, 4))\n",
        "  plt.plot(np.arange(1 , 11) , inertia , 'ko')\n",
        "  plt.plot(np.arange(1 , 11) , inertia , '-' , alpha = 0.5)\n",
        "  plt.xlabel('Number of Clusters') , plt.ylabel('Inertia')\n",
        "  plt.title('Kmeans Inércia', fontsize=14, weight='bold')\n",
        "  return inertia\n",
        "\n",
        "inertia = inercia(X,1,10)\n",
        "# adicionado depois... ;-)\n",
        "plt.plot(3 , inertia[2] , 'P', alpha = 1, color = 'red')\n",
        "plt.annotate('Elbow Point', (3 , inertia[2]), \n",
        "            xytext=(10, 40), fontsize=14,\n",
        "            textcoords='offset points', \n",
        "            color='grey',arrowprops=dict(facecolor='black',width=0.1))\n",
        "\n",
        "plt.show()   \n",
        "\n",
        "#número ideal de clusters: k=3."
      ],
      "execution_count": 9,
      "outputs": [
        {
          "output_type": "display_data",
          "data": {
            "text/plain": [
              "<Figure size 576x288 with 1 Axes>"
            ],
            "image/png": "[encoded data removed]"
          },
          "metadata": {
            "needs_background": "light"
          }
        }
      ]
    },
    {
      "cell_type": "code",
      "metadata": {
        "id": "tL_XAAn-75yV",
        "colab": {
          "base_uri": "https://localhost:8080/"
        },
        "outputId": "0c1d7313-8010-4e02-ef4d-918b9c813b54"
      },
      "source": [
        "from sklearn import metrics\n",
        "\n",
        "for n_clusters in range(2,11):\n",
        "  clf = KMeans(n_clusters = n_clusters , random_state= 1234)  \n",
        "  clf.fit(X)\n",
        "  labels = clf.labels_\n",
        "  print('Silhueta média para', n_clusters , 'clusters: ', np.round( metrics.silhouette_score(X, labels, metric='euclidean'),3))"
      ],
      "execution_count": 10,
      "outputs": [
        {
          "output_type": "stream",
          "name": "stdout",
          "text": [
            "Silhueta média para 2 clusters:  0.323\n",
            "Silhueta média para 3 clusters:  0.278\n",
            "Silhueta média para 4 clusters:  0.231\n",
            "Silhueta média para 5 clusters:  0.202\n",
            "Silhueta média para 6 clusters:  0.164\n",
            "Silhueta média para 7 clusters:  0.2\n",
            "Silhueta média para 8 clusters:  0.194\n",
            "Silhueta média para 9 clusters:  0.182\n",
            "Silhueta média para 10 clusters:  0.181\n"
          ]
        }
      ]
    },
    {
      "cell_type": "markdown",
      "metadata": {
        "id": "sCsvMhyq8OR8"
      },
      "source": [
        "(Moodle) **Q2**. Qual ao valor médio de silhueta para o melhor número de clusters na clusterização hierárquica (aglomerativa) para os esquemas de ligação (*linkage*) `ward` (padrão do `scikit-learn`),`complete` e `single`? (verifique de 2 a 10 clusters)\n",
        "\n",
        "> Não empregue outros parâmetros não solicitados. "
      ]
    },
    {
      "cell_type": "code",
      "metadata": {
        "id": "eMaTPiZbUjVW",
        "colab": {
          "base_uri": "https://localhost:8080/"
        },
        "outputId": "5d1b71ec-fb8f-4d98-9770-5ca1c8cffccf"
      },
      "source": [
        "from sklearn.cluster import AgglomerativeClustering\n",
        "clf = AgglomerativeClustering(n_clusters=2)  \n",
        "# clf = AgglomerativeClustering(n_clusters=2, affinity='euclidean', linkage='single') \n",
        "# clf = AgglomerativeClustering(n_clusters=2, affinity='euclidean', linkage='ward') \n",
        "\n",
        "clf.fit(X)\n",
        "\n",
        "# Resultados\n",
        "labels = clf.labels_\n",
        "print(labels)"
      ],
      "execution_count": 14,
      "outputs": [
        {
          "output_type": "stream",
          "name": "stdout",
          "text": [
            "[0 0 0 0 0 0 0 0 0 0 0 0 0 0 0 0 0 1 0 0 0 0 0 0 0 1]\n"
          ]
        }
      ]
    },
    {
      "cell_type": "code",
      "source": [
        "df['Cluster'] = labels\n",
        "df.head()"
      ],
      "metadata": {
        "id": "HLRdXxMFkX6E",
        "outputId": "16fe0283-ee3b-4962-9756-d79c08dd4b2d",
        "colab": {
          "base_uri": "https://localhost:8080/",
          "height": 206
        }
      },
      "execution_count": 17,
      "outputs": [
        {
          "output_type": "execute_result",
          "data": {
            "text/plain": [
              "      Country   Agr  Min   Man   PS  Con    SI  Fin   SPS   TC  Cluster2  \\\n",
              "0     Belgium   3.3  0.9  27.6  0.9  8.2  19.1  6.2  26.6  7.2         0   \n",
              "1     Denmark   9.2  0.1  21.8  0.6  8.3  14.6  6.5  32.2  7.1         0   \n",
              "2      France  10.8  0.8  27.5  0.9  8.9  16.8  6.0  22.6  5.7         0   \n",
              "3  W. Germany   6.7  1.3  35.8  0.9  7.3  14.4  5.0  22.3  6.1         0   \n",
              "4     Ireland  23.2  1.0  20.7  1.3  7.5  16.8  2.8  20.8  6.1         0   \n",
              "\n",
              "   Cluster  \n",
              "0        0  \n",
              "1        0  \n",
              "2        0  \n",
              "3        0  \n",
              "4        0  "
            ],
            "text/html": [
              "\n",
              "  <div id=\"df-616e87b3-0f3a-45bb-9533-846e86ffa645\">\n",
              "    <div class=\"colab-df-container\">\n",
              "      <div>\n",
              "<style scoped>\n",
              "    .dataframe tbody tr th:only-of-type {\n",
              "        vertical-align: middle;\n",
              "    }\n",
              "\n",
              "    .dataframe tbody tr th {\n",
              "        vertical-align: top;\n",
              "    }\n",
              "\n",
              "    .dataframe thead th {\n",
              "        text-align: right;\n",
              "    }\n",
              "</style>\n",
              "<table border=\"1\" class=\"dataframe\">\n",
              "  <thead>\n",
              "    <tr style=\"text-align: right;\">\n",
              "      <th></th>\n",
              "      <th>Country</th>\n",
              "      <th>Agr</th>\n",
              "      <th>Min</th>\n",
              "      <th>Man</th>\n",
              "      <th>PS</th>\n",
              "      <th>Con</th>\n",
              "      <th>SI</th>\n",
              "      <th>Fin</th>\n",
              "      <th>SPS</th>\n",
              "      <th>TC</th>\n",
              "      <th>Cluster2</th>\n",
              "      <th>Cluster</th>\n",
              "    </tr>\n",
              "  </thead>\n",
              "  <tbody>\n",
              "    <tr>\n",
              "      <th>0</th>\n",
              "      <td>Belgium</td>\n",
              "      <td>3.3</td>\n",
              "      <td>0.9</td>\n",
              "      <td>27.6</td>\n",
              "      <td>0.9</td>\n",
              "      <td>8.2</td>\n",
              "      <td>19.1</td>\n",
              "      <td>6.2</td>\n",
              "      <td>26.6</td>\n",
              "      <td>7.2</td>\n",
              "      <td>0</td>\n",
              "      <td>0</td>\n",
              "    </tr>\n",
              "    <tr>\n",
              "      <th>1</th>\n",
              "      <td>Denmark</td>\n",
              "      <td>9.2</td>\n",
              "      <td>0.1</td>\n",
              "      <td>21.8</td>\n",
              "      <td>0.6</td>\n",
              "      <td>8.3</td>\n",
              "      <td>14.6</td>\n",
              "      <td>6.5</td>\n",
              "      <td>32.2</td>\n",
              "      <td>7.1</td>\n",
              "      <td>0</td>\n",
              "      <td>0</td>\n",
              "    </tr>\n",
              "    <tr>\n",
              "      <th>2</th>\n",
              "      <td>France</td>\n",
              "      <td>10.8</td>\n",
              "      <td>0.8</td>\n",
              "      <td>27.5</td>\n",
              "      <td>0.9</td>\n",
              "      <td>8.9</td>\n",
              "      <td>16.8</td>\n",
              "      <td>6.0</td>\n",
              "      <td>22.6</td>\n",
              "      <td>5.7</td>\n",
              "      <td>0</td>\n",
              "      <td>0</td>\n",
              "    </tr>\n",
              "    <tr>\n",
              "      <th>3</th>\n",
              "      <td>W. Germany</td>\n",
              "      <td>6.7</td>\n",
              "      <td>1.3</td>\n",
              "      <td>35.8</td>\n",
              "      <td>0.9</td>\n",
              "      <td>7.3</td>\n",
              "      <td>14.4</td>\n",
              "      <td>5.0</td>\n",
              "      <td>22.3</td>\n",
              "      <td>6.1</td>\n",
              "      <td>0</td>\n",
              "      <td>0</td>\n",
              "    </tr>\n",
              "    <tr>\n",
              "      <th>4</th>\n",
              "      <td>Ireland</td>\n",
              "      <td>23.2</td>\n",
              "      <td>1.0</td>\n",
              "      <td>20.7</td>\n",
              "      <td>1.3</td>\n",
              "      <td>7.5</td>\n",
              "      <td>16.8</td>\n",
              "      <td>2.8</td>\n",
              "      <td>20.8</td>\n",
              "      <td>6.1</td>\n",
              "      <td>0</td>\n",
              "      <td>0</td>\n",
              "    </tr>\n",
              "  </tbody>\n",
              "</table>\n",
              "</div>\n",
              "      <button class=\"colab-df-convert\" onclick=\"convertToInteractive('df-616e87b3-0f3a-45bb-9533-846e86ffa645')\"\n",
              "              title=\"Convert this dataframe to an interactive table.\"\n",
              "              style=\"display:none;\">\n",
              "        \n",
              "  <svg xmlns=\"http://www.w3.org/2000/svg\" height=\"24px\"viewBox=\"0 0 24 24\"\n",
              "       width=\"24px\">\n",
              "    <path d=\"M0 0h24v24H0V0z\" fill=\"none\"/>\n",
              "    <path d=\"M18.56 5.44l.94 2.06.94-2.06 2.06-.94-2.06-.94-.94-2.06-.94 2.06-2.06.94zm-11 1L8.5 8.5l.94-2.06 2.06-.94-2.06-.94L8.5 2.5l-.94 2.06-2.06.94zm10 10l.94 2.06.94-2.06 2.06-.94-2.06-.94-.94-2.06-.94 2.06-2.06.94z\"/><path d=\"M17.41 7.96l-1.37-1.37c-.4-.4-.92-.59-1.43-.59-.52 0-1.04.2-1.43.59L10.3 9.45l-7.72 7.72c-.78.78-.78 2.05 0 2.83L4 21.41c.39.39.9.59 1.41.59.51 0 1.02-.2 1.41-.59l7.78-7.78 2.81-2.81c.8-.78.8-2.07 0-2.86zM5.41 20L4 18.59l7.72-7.72 1.47 1.35L5.41 20z\"/>\n",
              "  </svg>\n",
              "      </button>\n",
              "      \n",
              "  <style>\n",
              "    .colab-df-container {\n",
              "      display:flex;\n",
              "      flex-wrap:wrap;\n",
              "      gap: 12px;\n",
              "    }\n",
              "\n",
              "    .colab-df-convert {\n",
              "      background-color: #E8F0FE;\n",
              "      border: none;\n",
              "      border-radius: 50%;\n",
              "      cursor: pointer;\n",
              "      display: none;\n",
              "      fill: #1967D2;\n",
              "      height: 32px;\n",
              "      padding: 0 0 0 0;\n",
              "      width: 32px;\n",
              "    }\n",
              "\n",
              "    .colab-df-convert:hover {\n",
              "      background-color: #E2EBFA;\n",
              "      box-shadow: 0px 1px 2px rgba(60, 64, 67, 0.3), 0px 1px 3px 1px rgba(60, 64, 67, 0.15);\n",
              "      fill: #174EA6;\n",
              "    }\n",
              "\n",
              "    [theme=dark] .colab-df-convert {\n",
              "      background-color: #3B4455;\n",
              "      fill: #D2E3FC;\n",
              "    }\n",
              "\n",
              "    [theme=dark] .colab-df-convert:hover {\n",
              "      background-color: #434B5C;\n",
              "      box-shadow: 0px 1px 3px 1px rgba(0, 0, 0, 0.15);\n",
              "      filter: drop-shadow(0px 1px 2px rgba(0, 0, 0, 0.3));\n",
              "      fill: #FFFFFF;\n",
              "    }\n",
              "  </style>\n",
              "\n",
              "      <script>\n",
              "        const buttonEl =\n",
              "          document.querySelector('#df-616e87b3-0f3a-45bb-9533-846e86ffa645 button.colab-df-convert');\n",
              "        buttonEl.style.display =\n",
              "          google.colab.kernel.accessAllowed ? 'block' : 'none';\n",
              "\n",
              "        async function convertToInteractive(key) {\n",
              "          const element = document.querySelector('#df-616e87b3-0f3a-45bb-9533-846e86ffa645');\n",
              "          const dataTable =\n",
              "            await google.colab.kernel.invokeFunction('convertToInteractive',\n",
              "                                                     [key], {});\n",
              "          if (!dataTable) return;\n",
              "\n",
              "          const docLinkHtml = 'Like what you see? Visit the ' +\n",
              "            '<a target=\"_blank\" href=https://colab.research.google.com/notebooks/data_table.ipynb>data table notebook</a>'\n",
              "            + ' to learn more about interactive tables.';\n",
              "          element.innerHTML = '';\n",
              "          dataTable['output_type'] = 'display_data';\n",
              "          await google.colab.output.renderOutput(dataTable, element);\n",
              "          const docLink = document.createElement('div');\n",
              "          docLink.innerHTML = docLinkHtml;\n",
              "          element.appendChild(docLink);\n",
              "        }\n",
              "      </script>\n",
              "    </div>\n",
              "  </div>\n",
              "  "
            ]
          },
          "metadata": {},
          "execution_count": 17
        }
      ]
    },
    {
      "cell_type": "code",
      "source": [
        "import scipy.cluster.hierarchy as shc\n",
        "import matplotlib.pyplot as plt\n",
        "\n",
        "f, ax = plt.subplots(1,1,figsize=(12,4),sharey=True)\n",
        "\n",
        "ax.set_title(\"Dendrogram\")\n",
        "plt.xticks(rotation=90)  \n",
        "\n",
        "dendrogram = shc.dendrogram(shc.linkage(X, method='ward'))  \n",
        "ax.axhline(y=30, color='r', linestyle='--')\n",
        "\n",
        "plt.show()"
      ],
      "metadata": {
        "id": "W4uyvcRDkmmj",
        "outputId": "e27d26f2-8c74-484f-b7aa-b35faba0cbee",
        "colab": {
          "base_uri": "https://localhost:8080/",
          "height": 287
        }
      },
      "execution_count": 16,
      "outputs": [
        {
          "output_type": "display_data",
          "data": {
            "text/plain": [
              "<Figure size 864x288 with 1 Axes>"
            ],
            "image/png": "[encoded data removed]"
          },
          "metadata": {
            "needs_background": "light"
          }
        }
      ]
    },
    {
      "cell_type": "code",
      "source": [
        "df.groupby('Cluster').mean()"
      ],
      "metadata": {
        "id": "rbXhB7UplJLi",
        "outputId": "290cfe6f-abec-49c9-82a3-26bc3c3ffae8",
        "colab": {
          "base_uri": "https://localhost:8080/",
          "height": 143
        }
      },
      "execution_count": 18,
      "outputs": [
        {
          "output_type": "execute_result",
          "data": {
            "text/plain": [
              "             Agr       Min        Man        PS    Con         SI       Fin  \\\n",
              "Cluster                                                                       \n",
              "0        15.9125  1.266667  28.229167  0.933333  8.525  13.554167  3.816667   \n",
              "1        57.7500  1.100000  12.350000  0.600000  3.850   5.800000  6.200000   \n",
              "\n",
              "            SPS        TC  Cluster2  \n",
              "Cluster                              \n",
              "0        20.975  6.791667       0.0  \n",
              "1         8.600  3.600000       1.0  "
            ],
            "text/html": [
              "\n",
              "  <div id=\"df-5b0c8718-82b6-4884-b360-6e36c060c11b\">\n",
              "    <div class=\"colab-df-container\">\n",
              "      <div>\n",
              "<style scoped>\n",
              "    .dataframe tbody tr th:only-of-type {\n",
              "        vertical-align: middle;\n",
              "    }\n",
              "\n",
              "    .dataframe tbody tr th {\n",
              "        vertical-align: top;\n",
              "    }\n",
              "\n",
              "    .dataframe thead th {\n",
              "        text-align: right;\n",
              "    }\n",
              "</style>\n",
              "<table border=\"1\" class=\"dataframe\">\n",
              "  <thead>\n",
              "    <tr style=\"text-align: right;\">\n",
              "      <th></th>\n",
              "      <th>Agr</th>\n",
              "      <th>Min</th>\n",
              "      <th>Man</th>\n",
              "      <th>PS</th>\n",
              "      <th>Con</th>\n",
              "      <th>SI</th>\n",
              "      <th>Fin</th>\n",
              "      <th>SPS</th>\n",
              "      <th>TC</th>\n",
              "      <th>Cluster2</th>\n",
              "    </tr>\n",
              "    <tr>\n",
              "      <th>Cluster</th>\n",
              "      <th></th>\n",
              "      <th></th>\n",
              "      <th></th>\n",
              "      <th></th>\n",
              "      <th></th>\n",
              "      <th></th>\n",
              "      <th></th>\n",
              "      <th></th>\n",
              "      <th></th>\n",
              "      <th></th>\n",
              "    </tr>\n",
              "  </thead>\n",
              "  <tbody>\n",
              "    <tr>\n",
              "      <th>0</th>\n",
              "      <td>15.9125</td>\n",
              "      <td>1.266667</td>\n",
              "      <td>28.229167</td>\n",
              "      <td>0.933333</td>\n",
              "      <td>8.525</td>\n",
              "      <td>13.554167</td>\n",
              "      <td>3.816667</td>\n",
              "      <td>20.975</td>\n",
              "      <td>6.791667</td>\n",
              "      <td>0.0</td>\n",
              "    </tr>\n",
              "    <tr>\n",
              "      <th>1</th>\n",
              "      <td>57.7500</td>\n",
              "      <td>1.100000</td>\n",
              "      <td>12.350000</td>\n",
              "      <td>0.600000</td>\n",
              "      <td>3.850</td>\n",
              "      <td>5.800000</td>\n",
              "      <td>6.200000</td>\n",
              "      <td>8.600</td>\n",
              "      <td>3.600000</td>\n",
              "      <td>1.0</td>\n",
              "    </tr>\n",
              "  </tbody>\n",
              "</table>\n",
              "</div>\n",
              "      <button class=\"colab-df-convert\" onclick=\"convertToInteractive('df-5b0c8718-82b6-4884-b360-6e36c060c11b')\"\n",
              "              title=\"Convert this dataframe to an interactive table.\"\n",
              "              style=\"display:none;\">\n",
              "        \n",
              "  <svg xmlns=\"http://www.w3.org/2000/svg\" height=\"24px\"viewBox=\"0 0 24 24\"\n",
              "       width=\"24px\">\n",
              "    <path d=\"M0 0h24v24H0V0z\" fill=\"none\"/>\n",
              "    <path d=\"M18.56 5.44l.94 2.06.94-2.06 2.06-.94-2.06-.94-.94-2.06-.94 2.06-2.06.94zm-11 1L8.5 8.5l.94-2.06 2.06-.94-2.06-.94L8.5 2.5l-.94 2.06-2.06.94zm10 10l.94 2.06.94-2.06 2.06-.94-2.06-.94-.94-2.06-.94 2.06-2.06.94z\"/><path d=\"M17.41 7.96l-1.37-1.37c-.4-.4-.92-.59-1.43-.59-.52 0-1.04.2-1.43.59L10.3 9.45l-7.72 7.72c-.78.78-.78 2.05 0 2.83L4 21.41c.39.39.9.59 1.41.59.51 0 1.02-.2 1.41-.59l7.78-7.78 2.81-2.81c.8-.78.8-2.07 0-2.86zM5.41 20L4 18.59l7.72-7.72 1.47 1.35L5.41 20z\"/>\n",
              "  </svg>\n",
              "      </button>\n",
              "      \n",
              "  <style>\n",
              "    .colab-df-container {\n",
              "      display:flex;\n",
              "      flex-wrap:wrap;\n",
              "      gap: 12px;\n",
              "    }\n",
              "\n",
              "    .colab-df-convert {\n",
              "      background-color: #E8F0FE;\n",
              "      border: none;\n",
              "      border-radius: 50%;\n",
              "      cursor: pointer;\n",
              "      display: none;\n",
              "      fill: #1967D2;\n",
              "      height: 32px;\n",
              "      padding: 0 0 0 0;\n",
              "      width: 32px;\n",
              "    }\n",
              "\n",
              "    .colab-df-convert:hover {\n",
              "      background-color: #E2EBFA;\n",
              "      box-shadow: 0px 1px 2px rgba(60, 64, 67, 0.3), 0px 1px 3px 1px rgba(60, 64, 67, 0.15);\n",
              "      fill: #174EA6;\n",
              "    }\n",
              "\n",
              "    [theme=dark] .colab-df-convert {\n",
              "      background-color: #3B4455;\n",
              "      fill: #D2E3FC;\n",
              "    }\n",
              "\n",
              "    [theme=dark] .colab-df-convert:hover {\n",
              "      background-color: #434B5C;\n",
              "      box-shadow: 0px 1px 3px 1px rgba(0, 0, 0, 0.15);\n",
              "      filter: drop-shadow(0px 1px 2px rgba(0, 0, 0, 0.3));\n",
              "      fill: #FFFFFF;\n",
              "    }\n",
              "  </style>\n",
              "\n",
              "      <script>\n",
              "        const buttonEl =\n",
              "          document.querySelector('#df-5b0c8718-82b6-4884-b360-6e36c060c11b button.colab-df-convert');\n",
              "        buttonEl.style.display =\n",
              "          google.colab.kernel.accessAllowed ? 'block' : 'none';\n",
              "\n",
              "        async function convertToInteractive(key) {\n",
              "          const element = document.querySelector('#df-5b0c8718-82b6-4884-b360-6e36c060c11b');\n",
              "          const dataTable =\n",
              "            await google.colab.kernel.invokeFunction('convertToInteractive',\n",
              "                                                     [key], {});\n",
              "          if (!dataTable) return;\n",
              "\n",
              "          const docLinkHtml = 'Like what you see? Visit the ' +\n",
              "            '<a target=\"_blank\" href=https://colab.research.google.com/notebooks/data_table.ipynb>data table notebook</a>'\n",
              "            + ' to learn more about interactive tables.';\n",
              "          element.innerHTML = '';\n",
              "          dataTable['output_type'] = 'display_data';\n",
              "          await google.colab.output.renderOutput(dataTable, element);\n",
              "          const docLink = document.createElement('div');\n",
              "          docLink.innerHTML = docLinkHtml;\n",
              "          element.appendChild(docLink);\n",
              "        }\n",
              "      </script>\n",
              "    </div>\n",
              "  </div>\n",
              "  "
            ]
          },
          "metadata": {},
          "execution_count": 18
        }
      ]
    },
    {
      "cell_type": "code",
      "source": [
        "from sklearn.datasets import make_blobs\n",
        "from sklearn.cluster import KMeans\n",
        "from sklearn.metrics import silhouette_samples, silhouette_score\n",
        "\n",
        "import matplotlib.pyplot as plt\n",
        "import matplotlib.cm as cm\n",
        "import numpy as np\n",
        "\n",
        "print(__doc__)\n",
        "\n",
        "# Generating the sample data from make_blobs\n",
        "# This particular setting has one distinct cluster and 3 clusters placed close\n",
        "# together.\n",
        "X = X\n",
        "\n",
        "range_n_clusters = [2, 3, 4, 5, 6,7,8,9,10]\n",
        "\n",
        "for n_clusters in range_n_clusters:\n",
        "    # Create a subplot with 1 row and 2 columns\n",
        "    fig, ax1 = plt.subplots(1,1)\n",
        "    fig.set_size_inches(8, 5)\n",
        "\n",
        "    # The 1st subplot is the silhouette plot\n",
        "    # The silhouette coefficient can range from -1, 1 but in this example all\n",
        "    # lie within [-0.1, 1]\n",
        "    ax1.set_xlim([-0.1, 1])\n",
        "    # The (n_clusters+1)*10 is for inserting blank space between silhouette\n",
        "    # plots of individual clusters, to demarcate them clearly.\n",
        "    ax1.set_ylim([0, len(X) + (n_clusters + 1) * 10])\n",
        "\n",
        "    # Initialize the clusterer with n_clusters value and a random generator\n",
        "    # seed of 10 for reproducibility.\n",
        "    clusterer = KMeans(n_clusters=n_clusters, random_state=10)\n",
        "    cluster_labels = clusterer.fit_predict(X)\n",
        "\n",
        "    # The silhouette_score gives the average value for all the samples.\n",
        "    # This gives a perspective into the density and separation of the formed\n",
        "    # clusters\n",
        "    silhouette_avg = silhouette_score(X, cluster_labels)\n",
        "    print(\"For n_clusters =\", n_clusters,\n",
        "          \"The average silhouette_score is :\", silhouette_avg)\n",
        "\n",
        "    # Compute the silhouette scores for each sample\n",
        "    sample_silhouette_values = silhouette_samples(X, cluster_labels)\n",
        "\n",
        "    y_lower = 10\n",
        "    for i in range(n_clusters):\n",
        "        # Aggregate the silhouette scores for samples belonging to\n",
        "        # cluster i, and sort them\n",
        "        ith_cluster_silhouette_values = \\\n",
        "            sample_silhouette_values[cluster_labels == i]\n",
        "\n",
        "        ith_cluster_silhouette_values.sort()\n",
        "\n",
        "        size_cluster_i = ith_cluster_silhouette_values.shape[0]\n",
        "        y_upper = y_lower + size_cluster_i\n",
        "\n",
        "        color = cm.nipy_spectral(float(i) / n_clusters)\n",
        "        ax1.fill_betweenx(np.arange(y_lower, y_upper),\n",
        "                          0, ith_cluster_silhouette_values,\n",
        "                          facecolor=color, edgecolor=color, alpha=0.7)\n",
        "\n",
        "        # Label the silhouette plots with their cluster numbers at the middle\n",
        "        ax1.text(-0.05, y_lower + 0.5 * size_cluster_i, str(i))\n",
        "\n",
        "        # Compute the new y_lower for next plot\n",
        "        y_lower = y_upper + 10  # 10 for the 0 samples\n",
        "\n",
        "    ax1.set_title(\"The silhouette plot for the various clusters.\")\n",
        "    ax1.set_xlabel(\"The silhouette coefficient values\")\n",
        "    ax1.set_ylabel(\"Cluster label\")\n",
        "\n",
        "    # The vertical line for average silhouette score of all the values\n",
        "    ax1.axvline(x=silhouette_avg, color=\"red\", linestyle=\"--\")\n",
        "\n",
        "    ax1.set_yticks([])  # Clear the yaxis labels / ticks\n",
        "    ax1.set_xticks([-0.1, 0, 0.2, 0.4, 0.6, 0.8, 1])\n",
        "\n",
        "\n",
        "\n",
        "    plt.suptitle((\"Silhouette analysis for KMeans clustering on sample data \"\n",
        "                  \"with n_clusters = %d\" % n_clusters),\n",
        "                 fontsize=14, fontweight='bold')\n",
        "\n",
        "plt.show()"
      ],
      "metadata": {
        "id": "nv7zUBiAlW-g",
        "outputId": "cf6a035b-50cf-4c22-b93c-ec4d5b764521",
        "colab": {
          "base_uri": "https://localhost:8080/",
          "height": 1000
        }
      },
      "execution_count": 19,
      "outputs": [
        {
          "output_type": "stream",
          "name": "stdout",
          "text": [
            "Automatically created module for IPython interactive environment\n",
            "For n_clusters = 2 The average silhouette_score is : 0.45628411877541164\n",
            "For n_clusters = 3 The average silhouette_score is : 0.27020311580280093\n",
            "For n_clusters = 4 The average silhouette_score is : 0.23188442411948437\n",
            "For n_clusters = 5 The average silhouette_score is : 0.2415785644843798\n",
            "For n_clusters = 6 The average silhouette_score is : 0.2209863609185302\n",
            "For n_clusters = 7 The average silhouette_score is : 0.17899138914554397\n",
            "For n_clusters = 8 The average silhouette_score is : 0.18123032503066316\n",
            "For n_clusters = 9 The average silhouette_score is : 0.18451500436709384\n",
            "For n_clusters = 10 The average silhouette_score is : 0.12791554633531688\n"
          ]
        },
        {
          "output_type": "display_data",
          "data": {
            "text/plain": [
              "<Figure size 576x360 with 1 Axes>"
            ],
            "image/png": "[encoded data removed]"
          },
          "metadata": {
            "needs_background": "light"
          }
        },
        {
          "output_type": "display_data",
          "data": {
            "text/plain": [
              "<Figure size 576x360 with 1 Axes>"
            ],
            "image/png": "[encoded data removed]"
          },
          "metadata": {
            "needs_background": "light"
          }
        },
        {
          "output_type": "display_data",
          "data": {
            "text/plain": [
              "<Figure size 576x360 with 1 Axes>"
            ],
            "image/png": "[encoded data removed]"
          },
          "metadata": {
            "needs_background": "light"
          }
        },
        {
          "output_type": "display_data",
          "data": {
            "text/plain": [
              "<Figure size 576x360 with 1 Axes>"
            ],
            "image/png": "[encoded data removed]"
          },
          "metadata": {
            "needs_background": "light"
          }
        },
        {
          "output_type": "display_data",
          "data": {
            "text/plain": [
              "<Figure size 576x360 with 1 Axes>"
            ],
            "image/png": "[encoded data removed]"
          },
          "metadata": {
            "needs_background": "light"
          }
        },
        {
          "output_type": "display_data",
          "data": {
            "text/plain": [
              "<Figure size 576x360 with 1 Axes>"
            ],
            "image/png": "[encoded data removed]"
          },
          "metadata": {
            "needs_background": "light"
          }
        },
        {
          "output_type": "display_data",
          "data": {
            "text/plain": [
              "<Figure size 576x360 with 1 Axes>"
            ],
            "image/png": "[encoded data removed]"
          },
          "metadata": {
            "needs_background": "light"
          }
        },
        {
          "output_type": "display_data",
          "data": {
            "text/plain": [
              "<Figure size 576x360 with 1 Axes>"
            ],
            "image/png": "[encoded data removed]"
          },
          "metadata": {
            "needs_background": "light"
          }
        },
        {
          "output_type": "display_data",
          "data": {
            "text/plain": [
              "<Figure size 576x360 with 1 Axes>"
            ],
            "image/png": "[encoded data removed]"
          },
          "metadata": {
            "needs_background": "light"
          }
        }
      ]
    },
    {
      "cell_type": "markdown",
      "metadata": {
        "id": "IseBYJx1aCxl"
      },
      "source": [
        "## Clusterização, 3 Clusters\n",
        "\n",
        "O número de clusters não segue um único critério e normalmente é feita uma análise conjunta de várias métricas. Métodos não supervisionados são analíticos e é esperado que você analise as mátricas e resultados para uma *solução*. \n",
        "\n",
        "(Moodle) **Q3**. Verifique a *distribuição* da quantidade de elementos no modelo que fornece o melhor número de silhueta. Qual é essa distribuição e responda se essa é uma clusterização útil e adequada.\n",
        "\n",
        "> Note, por exemplo a distribuição de 100, 43, 8 para 3 grupos é uma distribuição melhor que 100, 50, 1 e podemos considerar neste último caso que o grupo com 1 elemento é um *outlier*.\n",
        "\n"
      ]
    },
    {
      "cell_type": "code",
      "metadata": {
        "id": "En8ho00M9iq1"
      },
      "source": [
        "# seu código"
      ],
      "execution_count": null,
      "outputs": []
    },
    {
      "cell_type": "code",
      "metadata": {
        "id": "Ek6FbyNW9mwE"
      },
      "source": [
        "# seu código"
      ],
      "execution_count": null,
      "outputs": []
    },
    {
      "cell_type": "markdown",
      "metadata": {
        "id": "o2JAOE04-i2M"
      },
      "source": [
        "## Clusterização `Kmeans`,  $K=3$.\n",
        "\n",
        "Vamos considerar que nossa análise ao final leva ao uso do Kmeans para 3 grupos de dados. De fato essa parece ser a melhor opção embora não tenhamos explorado isso aqui. Verique que a distribuição dos dados é de fato melhor e analise para esse modelo os valores médios dos grupos e os países pertencentes a cada grupo.\n",
        "\n",
        "(Moodle) **Q4**. Há um grupo que se caracteriza por um % médio maior da força de trabalho empregada na agricultura. Qual esse percentual e que países fazem parte dele? \n",
        "\n",
        "(Moodle) **Q5**. Excetuando o grupo o com % médio maior da força de trabalho empregada na agricultura e esse indicador, o que mais se destaca em diferenciar os outros dois grupos?\n",
        "\n",
        "> Empregue `random_state= 1234` no `KMeans`. Não empregue outros parâmetros não solicitados.\n",
        "\n"
      ]
    },
    {
      "cell_type": "code",
      "metadata": {
        "id": "Smgi9ZPaea0q",
        "colab": {
          "base_uri": "https://localhost:8080/",
          "height": 582
        },
        "outputId": "dbae8c43-c933-4995-b27c-f5c9a62024fc"
      },
      "source": [
        "# Configura e instancia o estimador \n",
        "clf = KMeans(n_clusters = 4 , random_state= 1234)  # seed, para a reprodutibilidade dos resultados\n",
        "\n",
        "# Ajusta o estimador aos dados\n",
        "clf.fit(X)\n",
        "\n",
        "# Obtém os resultados do modelo\n",
        "labels = clf.labels_\n",
        "centroids = clf.cluster_centers_\n",
        "\n",
        "print(labels)\n",
        "print(centroids)\n",
        "\n",
        "df['Cluster'] = labels\n",
        "df.head(12)"
      ],
      "execution_count": 22,
      "outputs": [
        {
          "output_type": "stream",
          "name": "stdout",
          "text": [
            "[0 0 0 0 0 0 0 0 0 0 0 3 0 3 3 0 0 1 3 2 2 2 3 3 2 1]\n",
            "[[-0.62565572 -0.42456223  0.0893139   0.13404498  0.15867575  0.82936773\n",
            "   0.40489119  0.60557634  0.11275347]\n",
            " [ 2.53329475 -0.16173799 -2.13305907 -0.83405766 -2.67433341 -1.5954184\n",
            "   0.79940055 -1.70572172 -2.15922902]\n",
            " [-0.17092991  1.38892502  0.87566804  0.92788914  0.16088904 -0.88772475\n",
            "  -1.13551214  0.02641859  1.1937774 ]\n",
            " [ 0.72938503  0.11860786 -0.08115811 -0.65334516  0.41394168 -0.81156874\n",
            "  -0.45420486 -0.86204993 -0.33920003]]\n"
          ]
        },
        {
          "output_type": "execute_result",
          "data": {
            "text/plain": [
              "           Country   Agr  Min   Man   PS   Con    SI  Fin   SPS   TC  cluster  \\\n",
              "0          Belgium   3.3  0.9  27.6  0.9   8.2  19.1  6.2  26.6  7.2        0   \n",
              "1          Denmark   9.2  0.1  21.8  0.6   8.3  14.6  6.5  32.2  7.1        0   \n",
              "2           France  10.8  0.8  27.5  0.9   8.9  16.8  6.0  22.6  5.7        0   \n",
              "3       W. Germany   6.7  1.3  35.8  0.9   7.3  14.4  5.0  22.3  6.1        0   \n",
              "4          Ireland  23.2  1.0  20.7  1.3   7.5  16.8  2.8  20.8  6.1        0   \n",
              "5            Italy  15.9  0.6  27.6  0.5  10.0  18.1  1.6  20.1  5.7        0   \n",
              "6       Luxembourg   7.7  3.1  30.8  0.8   9.2  18.5  4.6  19.2  6.2        0   \n",
              "7      Netherlands   6.3  0.1  22.5  1.0   9.9  18.0  6.8  28.5  6.8        0   \n",
              "8   United Kingdom   2.7  1.4  30.2  1.4   6.9  16.9  5.7  28.3  6.4        0   \n",
              "9          Austria  12.7  1.1  30.2  1.4   9.0  16.8  4.9  16.8  7.0        0   \n",
              "10         Finland  13.0  0.4  25.9  1.3   7.4  14.7  5.5  24.3  7.6        0   \n",
              "11          Greece  41.4  0.6  17.6  0.6   8.1  11.5  2.4  11.0  6.7        3   \n",
              "\n",
              "    Cluster  \n",
              "0         0  \n",
              "1         0  \n",
              "2         0  \n",
              "3         0  \n",
              "4         0  \n",
              "5         0  \n",
              "6         0  \n",
              "7         0  \n",
              "8         0  \n",
              "9         0  \n",
              "10        0  \n",
              "11        3  "
            ],
            "text/html": [
              "\n",
              "  <div id=\"df-585fcfee-248a-4a82-b752-b5784c03a755\">\n",
              "    <div class=\"colab-df-container\">\n",
              "      <div>\n",
              "<style scoped>\n",
              "    .dataframe tbody tr th:only-of-type {\n",
              "        vertical-align: middle;\n",
              "    }\n",
              "\n",
              "    .dataframe tbody tr th {\n",
              "        vertical-align: top;\n",
              "    }\n",
              "\n",
              "    .dataframe thead th {\n",
              "        text-align: right;\n",
              "    }\n",
              "</style>\n",
              "<table border=\"1\" class=\"dataframe\">\n",
              "  <thead>\n",
              "    <tr style=\"text-align: right;\">\n",
              "      <th></th>\n",
              "      <th>Country</th>\n",
              "      <th>Agr</th>\n",
              "      <th>Min</th>\n",
              "      <th>Man</th>\n",
              "      <th>PS</th>\n",
              "      <th>Con</th>\n",
              "      <th>SI</th>\n",
              "      <th>Fin</th>\n",
              "      <th>SPS</th>\n",
              "      <th>TC</th>\n",
              "      <th>cluster</th>\n",
              "      <th>Cluster</th>\n",
              "    </tr>\n",
              "  </thead>\n",
              "  <tbody>\n",
              "    <tr>\n",
              "      <th>0</th>\n",
              "      <td>Belgium</td>\n",
              "      <td>3.3</td>\n",
              "      <td>0.9</td>\n",
              "      <td>27.6</td>\n",
              "      <td>0.9</td>\n",
              "      <td>8.2</td>\n",
              "      <td>19.1</td>\n",
              "      <td>6.2</td>\n",
              "      <td>26.6</td>\n",
              "      <td>7.2</td>\n",
              "      <td>0</td>\n",
              "      <td>0</td>\n",
              "    </tr>\n",
              "    <tr>\n",
              "      <th>1</th>\n",
              "      <td>Denmark</td>\n",
              "      <td>9.2</td>\n",
              "      <td>0.1</td>\n",
              "      <td>21.8</td>\n",
              "      <td>0.6</td>\n",
              "      <td>8.3</td>\n",
              "      <td>14.6</td>\n",
              "      <td>6.5</td>\n",
              "      <td>32.2</td>\n",
              "      <td>7.1</td>\n",
              "      <td>0</td>\n",
              "      <td>0</td>\n",
              "    </tr>\n",
              "    <tr>\n",
              "      <th>2</th>\n",
              "      <td>France</td>\n",
              "      <td>10.8</td>\n",
              "      <td>0.8</td>\n",
              "      <td>27.5</td>\n",
              "      <td>0.9</td>\n",
              "      <td>8.9</td>\n",
              "      <td>16.8</td>\n",
              "      <td>6.0</td>\n",
              "      <td>22.6</td>\n",
              "      <td>5.7</td>\n",
              "      <td>0</td>\n",
              "      <td>0</td>\n",
              "    </tr>\n",
              "    <tr>\n",
              "      <th>3</th>\n",
              "      <td>W. Germany</td>\n",
              "      <td>6.7</td>\n",
              "      <td>1.3</td>\n",
              "      <td>35.8</td>\n",
              "      <td>0.9</td>\n",
              "      <td>7.3</td>\n",
              "      <td>14.4</td>\n",
              "      <td>5.0</td>\n",
              "      <td>22.3</td>\n",
              "      <td>6.1</td>\n",
              "      <td>0</td>\n",
              "      <td>0</td>\n",
              "    </tr>\n",
              "    <tr>\n",
              "      <th>4</th>\n",
              "      <td>Ireland</td>\n",
              "      <td>23.2</td>\n",
              "      <td>1.0</td>\n",
              "      <td>20.7</td>\n",
              "      <td>1.3</td>\n",
              "      <td>7.5</td>\n",
              "      <td>16.8</td>\n",
              "      <td>2.8</td>\n",
              "      <td>20.8</td>\n",
              "      <td>6.1</td>\n",
              "      <td>0</td>\n",
              "      <td>0</td>\n",
              "    </tr>\n",
              "    <tr>\n",
              "      <th>5</th>\n",
              "      <td>Italy</td>\n",
              "      <td>15.9</td>\n",
              "      <td>0.6</td>\n",
              "      <td>27.6</td>\n",
              "      <td>0.5</td>\n",
              "      <td>10.0</td>\n",
              "      <td>18.1</td>\n",
              "      <td>1.6</td>\n",
              "      <td>20.1</td>\n",
              "      <td>5.7</td>\n",
              "      <td>0</td>\n",
              "      <td>0</td>\n",
              "    </tr>\n",
              "    <tr>\n",
              "      <th>6</th>\n",
              "      <td>Luxembourg</td>\n",
              "      <td>7.7</td>\n",
              "      <td>3.1</td>\n",
              "      <td>30.8</td>\n",
              "      <td>0.8</td>\n",
              "      <td>9.2</td>\n",
              "      <td>18.5</td>\n",
              "      <td>4.6</td>\n",
              "      <td>19.2</td>\n",
              "      <td>6.2</td>\n",
              "      <td>0</td>\n",
              "      <td>0</td>\n",
              "    </tr>\n",
              "    <tr>\n",
              "      <th>7</th>\n",
              "      <td>Netherlands</td>\n",
              "      <td>6.3</td>\n",
              "      <td>0.1</td>\n",
              "      <td>22.5</td>\n",
              "      <td>1.0</td>\n",
              "      <td>9.9</td>\n",
              "      <td>18.0</td>\n",
              "      <td>6.8</td>\n",
              "      <td>28.5</td>\n",
              "      <td>6.8</td>\n",
              "      <td>0</td>\n",
              "      <td>0</td>\n",
              "    </tr>\n",
              "    <tr>\n",
              "      <th>8</th>\n",
              "      <td>United Kingdom</td>\n",
              "      <td>2.7</td>\n",
              "      <td>1.4</td>\n",
              "      <td>30.2</td>\n",
              "      <td>1.4</td>\n",
              "      <td>6.9</td>\n",
              "      <td>16.9</td>\n",
              "      <td>5.7</td>\n",
              "      <td>28.3</td>\n",
              "      <td>6.4</td>\n",
              "      <td>0</td>\n",
              "      <td>0</td>\n",
              "    </tr>\n",
              "    <tr>\n",
              "      <th>9</th>\n",
              "      <td>Austria</td>\n",
              "      <td>12.7</td>\n",
              "      <td>1.1</td>\n",
              "      <td>30.2</td>\n",
              "      <td>1.4</td>\n",
              "      <td>9.0</td>\n",
              "      <td>16.8</td>\n",
              "      <td>4.9</td>\n",
              "      <td>16.8</td>\n",
              "      <td>7.0</td>\n",
              "      <td>0</td>\n",
              "      <td>0</td>\n",
              "    </tr>\n",
              "    <tr>\n",
              "      <th>10</th>\n",
              "      <td>Finland</td>\n",
              "      <td>13.0</td>\n",
              "      <td>0.4</td>\n",
              "      <td>25.9</td>\n",
              "      <td>1.3</td>\n",
              "      <td>7.4</td>\n",
              "      <td>14.7</td>\n",
              "      <td>5.5</td>\n",
              "      <td>24.3</td>\n",
              "      <td>7.6</td>\n",
              "      <td>0</td>\n",
              "      <td>0</td>\n",
              "    </tr>\n",
              "    <tr>\n",
              "      <th>11</th>\n",
              "      <td>Greece</td>\n",
              "      <td>41.4</td>\n",
              "      <td>0.6</td>\n",
              "      <td>17.6</td>\n",
              "      <td>0.6</td>\n",
              "      <td>8.1</td>\n",
              "      <td>11.5</td>\n",
              "      <td>2.4</td>\n",
              "      <td>11.0</td>\n",
              "      <td>6.7</td>\n",
              "      <td>3</td>\n",
              "      <td>3</td>\n",
              "    </tr>\n",
              "  </tbody>\n",
              "</table>\n",
              "</div>\n",
              "      <button class=\"colab-df-convert\" onclick=\"convertToInteractive('df-585fcfee-248a-4a82-b752-b5784c03a755')\"\n",
              "              title=\"Convert this dataframe to an interactive table.\"\n",
              "              style=\"display:none;\">\n",
              "        \n",
              "  <svg xmlns=\"http://www.w3.org/2000/svg\" height=\"24px\"viewBox=\"0 0 24 24\"\n",
              "       width=\"24px\">\n",
              "    <path d=\"M0 0h24v24H0V0z\" fill=\"none\"/>\n",
              "    <path d=\"M18.56 5.44l.94 2.06.94-2.06 2.06-.94-2.06-.94-.94-2.06-.94 2.06-2.06.94zm-11 1L8.5 8.5l.94-2.06 2.06-.94-2.06-.94L8.5 2.5l-.94 2.06-2.06.94zm10 10l.94 2.06.94-2.06 2.06-.94-2.06-.94-.94-2.06-.94 2.06-2.06.94z\"/><path d=\"M17.41 7.96l-1.37-1.37c-.4-.4-.92-.59-1.43-.59-.52 0-1.04.2-1.43.59L10.3 9.45l-7.72 7.72c-.78.78-.78 2.05 0 2.83L4 21.41c.39.39.9.59 1.41.59.51 0 1.02-.2 1.41-.59l7.78-7.78 2.81-2.81c.8-.78.8-2.07 0-2.86zM5.41 20L4 18.59l7.72-7.72 1.47 1.35L5.41 20z\"/>\n",
              "  </svg>\n",
              "      </button>\n",
              "      \n",
              "  <style>\n",
              "    .colab-df-container {\n",
              "      display:flex;\n",
              "      flex-wrap:wrap;\n",
              "      gap: 12px;\n",
              "    }\n",
              "\n",
              "    .colab-df-convert {\n",
              "      background-color: #E8F0FE;\n",
              "      border: none;\n",
              "      border-radius: 50%;\n",
              "      cursor: pointer;\n",
              "      display: none;\n",
              "      fill: #1967D2;\n",
              "      height: 32px;\n",
              "      padding: 0 0 0 0;\n",
              "      width: 32px;\n",
              "    }\n",
              "\n",
              "    .colab-df-convert:hover {\n",
              "      background-color: #E2EBFA;\n",
              "      box-shadow: 0px 1px 2px rgba(60, 64, 67, 0.3), 0px 1px 3px 1px rgba(60, 64, 67, 0.15);\n",
              "      fill: #174EA6;\n",
              "    }\n",
              "\n",
              "    [theme=dark] .colab-df-convert {\n",
              "      background-color: #3B4455;\n",
              "      fill: #D2E3FC;\n",
              "    }\n",
              "\n",
              "    [theme=dark] .colab-df-convert:hover {\n",
              "      background-color: #434B5C;\n",
              "      box-shadow: 0px 1px 3px 1px rgba(0, 0, 0, 0.15);\n",
              "      filter: drop-shadow(0px 1px 2px rgba(0, 0, 0, 0.3));\n",
              "      fill: #FFFFFF;\n",
              "    }\n",
              "  </style>\n",
              "\n",
              "      <script>\n",
              "        const buttonEl =\n",
              "          document.querySelector('#df-585fcfee-248a-4a82-b752-b5784c03a755 button.colab-df-convert');\n",
              "        buttonEl.style.display =\n",
              "          google.colab.kernel.accessAllowed ? 'block' : 'none';\n",
              "\n",
              "        async function convertToInteractive(key) {\n",
              "          const element = document.querySelector('#df-585fcfee-248a-4a82-b752-b5784c03a755');\n",
              "          const dataTable =\n",
              "            await google.colab.kernel.invokeFunction('convertToInteractive',\n",
              "                                                     [key], {});\n",
              "          if (!dataTable) return;\n",
              "\n",
              "          const docLinkHtml = 'Like what you see? Visit the ' +\n",
              "            '<a target=\"_blank\" href=https://colab.research.google.com/notebooks/data_table.ipynb>data table notebook</a>'\n",
              "            + ' to learn more about interactive tables.';\n",
              "          element.innerHTML = '';\n",
              "          dataTable['output_type'] = 'display_data';\n",
              "          await google.colab.output.renderOutput(dataTable, element);\n",
              "          const docLink = document.createElement('div');\n",
              "          docLink.innerHTML = docLinkHtml;\n",
              "          element.appendChild(docLink);\n",
              "        }\n",
              "      </script>\n",
              "    </div>\n",
              "  </div>\n",
              "  "
            ]
          },
          "metadata": {},
          "execution_count": 22
        }
      ]
    },
    {
      "cell_type": "code",
      "metadata": {
        "id": "B0GCFnpu-Lqc",
        "colab": {
          "base_uri": "https://localhost:8080/",
          "height": 568
        },
        "outputId": "63ad32db-861c-47f6-c83e-4ea7c42ca264"
      },
      "source": [
        "f = plt.figure(figsize=(9,9))\n",
        "\n",
        "real_centroids = scaler.inverse_transform(centroids)\n",
        "\n",
        "plt.scatter(x = 'Agr' ,y = 'Man' , data = df , c = labels , s = 200 )\n",
        "plt.scatter(x = real_centroids[: , 0] , y =  real_centroids[: , 1] , s = 500 , c = 'red' ,  marker='+')\n",
        "\n",
        "for line in range(0,df.shape[0]):\n",
        "  plt.text(df.Agr[line], df.Man[line], df.index[line], \n",
        "           horizontalalignment='center', \n",
        "           size='large', \n",
        "           color='black')\n",
        "  \n",
        "plt.title('Paises Clusters', fontsize=14, weight='bold')\n",
        "plt.ylabel('Agr') , plt.xlabel('Man')\n",
        "plt.show()"
      ],
      "execution_count": 26,
      "outputs": [
        {
          "output_type": "display_data",
          "data": {
            "text/plain": [
              "<Figure size 648x648 with 1 Axes>"
            ],
            "image/png": "[encoded data removed]"
          },
          "metadata": {
            "needs_background": "light"
          }
        }
      ]
    },
    {
      "cell_type": "code",
      "metadata": {
        "id": "NYyTx8dP-OXc",
        "colab": {
          "base_uri": "https://localhost:8080/",
          "height": 297
        },
        "outputId": "c6baff40-6a1c-4361-a34a-c64cfe0a2d49"
      },
      "source": [
        "g = pd.DataFrame( df.groupby('Cluster').mean() ).reset_index()\n",
        "\n",
        "fig, ax = plt.subplots(1,3,figsize=(12,4),sharey=True)\n",
        "\n",
        "nomes = ['a','b','c']\n",
        "\n",
        "for i in range(len(g)):\n",
        "  sns.barplot(data=g[g.Cluster==i].drop(columns='Cluster'),ax=ax[i])\n",
        "  ax[i].set_title('Grupo ' + str(i) + ' : \\n' + nomes[i], fontsize=14, weight='bold')\n",
        "\n",
        "plt.tight_layout()\n",
        "plt.show()"
      ],
      "execution_count": 20,
      "outputs": [
        {
          "output_type": "display_data",
          "data": {
            "text/plain": [
              "<Figure size 864x288 with 3 Axes>"
            ],
            "image/png": "[encoded data removed]"
          },
          "metadata": {
            "needs_background": "light"
          }
        }
      ]
    }
  ]
}